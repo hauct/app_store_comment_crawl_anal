{
 "cells": [
  {
   "cell_type": "code",
   "execution_count": 1,
   "metadata": {},
   "outputs": [],
   "source": [
    "import pandas as pd\n",
    "from datetime import datetime\n",
    "import time\n",
    "from tqdm import tqdm\n",
    "from app_info import *\n",
    "import sqldf\n",
    "\n",
    "from selenium import webdriver\n",
    "from selenium.webdriver.common.by import By\n",
    "from selenium.webdriver.common.keys import Keys\n",
    "from selenium.webdriver.chrome.service import Service\n",
    "from bs4 import BeautifulSoup\n",
    "\n",
    "import google.generativeai as genai\n",
    "import psycopg2"
   ]
  },
  {
   "cell_type": "code",
   "execution_count": 2,
   "metadata": {},
   "outputs": [],
   "source": [
    "url = f'https://play.google.com/store/apps/details?id={id}&hl={hl}'"
   ]
  },
  {
   "cell_type": "code",
   "execution_count": 3,
   "metadata": {},
   "outputs": [],
   "source": [
    "def connect_to_web(url):\n",
    "    ## Windowless mode feature (Chrome) and chrome message handling.\n",
    "    options = webdriver.EdgeOptions()\n",
    "    options.headless = True # Runs driver without opening a chrome browser.\n",
    "    options.add_experimental_option(\"excludeSwitches\", [\"enable-logging\"])\n",
    "\n",
    "    ## Set the path to your webdriver\n",
    "    service = Service('msedgedriver.exe')\n",
    "\n",
    "    ## Initiate the browser\n",
    "    driver = webdriver.Edge(service=service, options=options)\n",
    "    driver.get(url)\n",
    "    print(f'Connected to {url}')\n",
    "    return driver"
   ]
  },
  {
   "cell_type": "code",
   "execution_count": 4,
   "metadata": {},
   "outputs": [
    {
     "name": "stdout",
     "output_type": "stream",
     "text": [
      "Connected to https://play.google.com/store/apps/details?id=vng.games.thienlong.kiemhiep3d.mobile&hl=vi\n"
     ]
    }
   ],
   "source": [
    "driver = connect_to_web(url)\n",
    "\n",
    "# Click to review button\n",
    "review = driver.find_element(By.XPATH, '/html/body/c-wiz[2]/div/div/div[1]/div[2]/div[2]/div/div[1]/div[1]/c-wiz[4]/section/header/div/div[2]/button/i')\n",
    "review.click()\n",
    "time.sleep(2)\n",
    "\n",
    "button = driver.find_element(By.XPATH, '//*[@id=\"sortBy_1\"]/div[2]/i')\n",
    "button.click()\n",
    "time.sleep(2)\n",
    "\n",
    "# Click to new sort\n",
    "new_sort = driver.find_element(By.XPATH, '/html/body/div[4]/div[2]/div/div/div/div/div[2]/div[2]/div/div/span[2]/div[2]/div[2]')\n",
    "new_sort.click()\n",
    "time.sleep(2)"
   ]
  },
  {
   "cell_type": "code",
   "execution_count": null,
   "metadata": {},
   "outputs": [],
   "source": [
    "# Click to new sort\n",
    "new_sort = driver.find_element(By.XPATH, '/html/body/div[4]/div[2]/div/div/div/div/div[2]/div[2]/div/div/span[2]/div[2]/div[2]')\n",
    "new_sort.click()\n",
    "time.sleep(2)"
   ]
  },
  {
   "cell_type": "code",
   "execution_count": null,
   "metadata": {},
   "outputs": [],
   "source": []
  },
  {
   "cell_type": "code",
   "execution_count": null,
   "metadata": {},
   "outputs": [],
   "source": []
  },
  {
   "cell_type": "code",
   "execution_count": null,
   "metadata": {},
   "outputs": [],
   "source": []
  },
  {
   "cell_type": "code",
   "execution_count": null,
   "metadata": {},
   "outputs": [],
   "source": [
    "WAIT_TIME = 3 # Default wait time(Seconds) before each bot action.\n",
    "NUM_OF_CALL = 1 # From validated input in validation.py\n",
    "USER = os.getlogin()"
   ]
  },
  {
   "cell_type": "code",
   "execution_count": null,
   "metadata": {},
   "outputs": [],
   "source": [
    "# url to google playstore games page\n",
    "URL = f'https://play.google.com/store/apps/details?id={id}&hl={hl}'\n",
    "\n",
    "# Windowless mode feature (Chrome) and chrome message handling.\n",
    "options = webdriver.EdgeOptions()\n",
    "options.headless = True # Runs driver without opening a chrome browser.\n",
    "options.add_experimental_option(\"excludeSwitches\", [\"enable-logging\"])\n",
    "\n",
    "# Set the path to your webdriver\n",
    "service = Service('msedgedriver.exe')\n",
    "\n",
    "# Initiate the browser\n",
    "driver = webdriver.Edge(service=service, options=options)\n",
    "driver.get(URL)"
   ]
  },
  {
   "cell_type": "code",
   "execution_count": null,
   "metadata": {},
   "outputs": [],
   "source": [
    "# Click to review button\n",
    "review = driver.find_element(By.XPATH, '/html/body/c-wiz[2]/div/div/div[1]/div[2]/div[2]/div/div[1]/div[1]/c-wiz[4]/section/header/div/div[2]/button/i')\n",
    "review.click()\n",
    "time.sleep(2)"
   ]
  },
  {
   "cell_type": "code",
   "execution_count": null,
   "metadata": {},
   "outputs": [],
   "source": [
    "button = driver.find_element(By.XPATH, '//*[@id=\"sortBy_1\"]/div[2]/i')\n",
    "button.click()"
   ]
  },
  {
   "cell_type": "code",
   "execution_count": null,
   "metadata": {},
   "outputs": [],
   "source": [
    "# Click to new sort\n",
    "new_sort = driver.find_element(By.XPATH, '/html/body/div[4]/div[2]/div/div/div/div/div[2]/div[2]/div/div/span[2]/div[2]/div[2]')\n",
    "new_sort.click()\n",
    "time.sleep(2)"
   ]
  },
  {
   "cell_type": "code",
   "execution_count": null,
   "metadata": {},
   "outputs": [],
   "source": [
    "# Function to scroll the target div until the end\n",
    "def scroll_target_div(scroll_num):\n",
    "    # Find the parent div with class name \"odk6He\"\n",
    "    target_div = driver.find_element(By.CLASS_NAME, \"fysCi\")\n",
    "    \n",
    "    # Get initial scroll height\n",
    "    last_height = driver.execute_script(\"return arguments[0].scrollHeight\", target_div)\n",
    "    \n",
    "    scrolls = 0\n",
    "    while True:\n",
    "        # Scroll the target div to the bottom\n",
    "        driver.execute_script(\"arguments[0].scrollTop = arguments[0].scrollHeight\", target_div)\n",
    "        \n",
    "        # Wait for a short time for the page to load\n",
    "        time.sleep(2)\n",
    "        \n",
    "        # Get updated scroll height\n",
    "        new_height = driver.execute_script(\"return arguments[0].scrollHeight\", target_div)\n",
    "        \n",
    "        # If scroll height hasn't changed, we've reached the bottom of the div\n",
    "        if (new_height == last_height)|(scrolls == scroll_num):\n",
    "            break\n",
    "        \n",
    "        # Update last scroll height\n",
    "        last_height = new_height\n",
    "        scrolls = scrolls + 1"
   ]
  },
  {
   "cell_type": "code",
   "execution_count": null,
   "metadata": {},
   "outputs": [],
   "source": [
    "# Scroll down the specific div element\n",
    "scroll_target_div(10)\n",
    "\n",
    "# Get the page source after clicking the button\n",
    "page_source_a = driver.page_source\n",
    "\n",
    "# Parse the page source with Beautiful Soup\n",
    "soup = BeautifulSoup(page_source_a, 'html.parser')\n",
    "\n",
    "# Close the browser\n",
    "# driver.quit()"
   ]
  },
  {
   "cell_type": "code",
   "execution_count": null,
   "metadata": {},
   "outputs": [],
   "source": [
    "# get list review date\n",
    "review_span = soup.find_all(\"span\", class_= 'bp9Aid')\n",
    "review_dates = [datetime.strptime(x.text, '%d tháng %m, %Y').strftime('%Y-%m-%d') for x in review_span]\n",
    "\n",
    "# get list review stars\n",
    "review_img = soup.find_all(\"div\", class_= 'iXRFPc')\n",
    "review_stars = [int(x.get('aria-label').split()[3]) for x in review_img]\n",
    "\n",
    "# get list review content\n",
    "review_text = soup.find_all(\"div\", class_= 'h3YV2d')\n",
    "review_contents = [x.text.strip() for x in review_text]"
   ]
  },
  {
   "cell_type": "code",
   "execution_count": null,
   "metadata": {},
   "outputs": [],
   "source": [
    "reviews_dict = []\n",
    "for review_date, review_star, review_content in zip(review_dates, review_stars, review_contents):\n",
    "    review_dict = {\n",
    "        \"review_date\": review_date,\n",
    "        \"review_star\": review_star,\n",
    "        \"review_content\": review_content,\n",
    "    }\n",
    "    reviews_dict.append(review_dict)\n",
    "\n",
    "import pandas as pd\n",
    "app_reviews = pd.DataFrame(reviews_dict[3:]) # remove 3 first preview reviews"
   ]
  },
  {
   "cell_type": "code",
   "execution_count": null,
   "metadata": {},
   "outputs": [],
   "source": [
    "df.head()"
   ]
  },
  {
   "cell_type": "code",
   "execution_count": null,
   "metadata": {},
   "outputs": [],
   "source": [
    "gg_reviews = pd.read_excel('gg_reviews.xlsx')\n",
    "gg_reviews.head()"
   ]
  },
  {
   "cell_type": "code",
   "execution_count": null,
   "metadata": {},
   "outputs": [],
   "source": [
    "import sqldf"
   ]
  },
  {
   "cell_type": "code",
   "execution_count": null,
   "metadata": {},
   "outputs": [],
   "source": [
    "gg_reviews_agg_query = '''\n",
    "    SELECT review_date, review_star, emotion, summary_review, COUNT(review_star) AS num_review_star, COUNT(emotion) AS num_emotion, COUNT(summary_review) AS num_summary_review\n",
    "    FROM gg_reviews\n",
    "    GROUP BY review_date, review_star, emotion, summary_review\n",
    "    ORDER BY review_date DESC, review_star DESC\n",
    "'''\n",
    "gg_reviews_agg = sqldf.run(gg_reviews_agg_query)\n",
    "gg_reviews_agg.head()\n"
   ]
  },
  {
   "cell_type": "code",
   "execution_count": null,
   "metadata": {},
   "outputs": [],
   "source": [
    "import psycopg2\n",
    "from tqdm import tqdm\n",
    "\n",
    "## Tham số của database\n",
    "PASSWORDS = \"rJl<|QNC3o3I6GzZz].,T7A?\"\n",
    "HOST = \"10.50.44.215\"\n",
    "PORT = \"5432\"\n",
    "DB_NAME = \"gs2_internal\"\n",
    "USER = \"postgres\"\n",
    "\n",
    "# Kết nối tới PostgreSQL\n",
    "conn = psycopg2.connect(\n",
    "    host=HOST,\n",
    "    database=DB_NAME,\n",
    "    user=USER,\n",
    "    password=PASSWORDS\n",
    ")\n",
    "\n",
    "# Tạo đối tượng cursor để thực hiện các thao tác với cơ sở dữ liệu\n",
    "cur = conn.cursor()\n",
    "\n",
    "for row in gg_reviews_agg.itertuples():\n",
    "    try:\n",
    "        cur.execute(\n",
    "            \"INSERT INTO store_reviews.gg_reviews_agg(review_date, review_star, emotion, summary_review, num_review_star, num_emotion, num_summary_review) VALUES (%s, %s, %s, %s, %s, %s, %s) ON CONFLICT (review_date, review_star, emotion, summary_review) DO NOTHING\",\n",
    "            (row.review_date, row.review_star, row.emotion, row.summary_review, row.num_review_star, row.num_emotion, row.num_summary_review)\n",
    "        )\n",
    "        # Commit transaction nếu không có lỗi\n",
    "        conn.commit()\n",
    "    except Exception as e:\n",
    "        print(\"An error occurred:\", e)\n",
    "        # Rollback in case of error\n",
    "        conn.rollback()\n",
    "\n",
    "cur.close()\n",
    "conn.close()"
   ]
  },
  {
   "cell_type": "code",
   "execution_count": null,
   "metadata": {},
   "outputs": [],
   "source": []
  },
  {
   "cell_type": "code",
   "execution_count": null,
   "metadata": {},
   "outputs": [],
   "source": []
  },
  {
   "cell_type": "code",
   "execution_count": null,
   "metadata": {},
   "outputs": [],
   "source": [
    "reviews_list = []\n",
    "ratings_list = []\n",
    "dates_list = []\n",
    "app_reviews = {}"
   ]
  },
  {
   "cell_type": "code",
   "execution_count": null,
   "metadata": {},
   "outputs": [],
   "source": [
    "def scroll_reviews():\n",
    "    time.sleep(WAIT_TIME)\n",
    "    buttons = driver.find_elements(by= By.TAG_NAME, value=\"button\")\n",
    "    buttons[-2].click()\n",
    "    review_scroll = driver.find_element(by= By.CLASS_NAME, value=\"VfPpkd-Bz112c-LgbsSe.yHy1rc.eT1oJ.mN1ivc.a8Z62d\")\n",
    "    time.sleep(WAIT_TIME)\n",
    "    for _ in tqdm(range(NUM_OF_CALL)):\n",
    "        review_scroll.send_keys(Keys.TAB, Keys.END*2)\n",
    "        time.sleep(2) #### CHECK HERE INCASE."
   ]
  },
  {
   "cell_type": "code",
   "execution_count": null,
   "metadata": {},
   "outputs": [],
   "source": [
    "scroll_reviews()"
   ]
  },
  {
   "cell_type": "code",
   "execution_count": null,
   "metadata": {},
   "outputs": [],
   "source": [
    "buttons = driver.find_elements(by= By.TAG_NAME, value=\"button\")\n",
    "type(buttons[-2])"
   ]
  },
  {
   "cell_type": "code",
   "execution_count": null,
   "metadata": {},
   "outputs": [],
   "source": [
    "button = driver.find_element(By.XPATH, '/html/body/c-wiz[2]/div/div/div[1]/div[2]/div[2]/div/div[1]/div[1]/c-wiz[4]/section/header/div/div[2]/button/i')\n",
    "button.click()\n"
   ]
  },
  {
   "cell_type": "code",
   "execution_count": null,
   "metadata": {},
   "outputs": [],
   "source": [
    "comments = driver.find_elements(By.XPATH, '/html/body/div[1]/div/div[1]/div/div[3]/div/div/div[1]/div[1]/div/div/div[4]/div[2]/div/div[2]/div[3]/div[2]/div/div/div/div/div/div/div/div/div/div/div[8]/div/div/div[4]/div/div/div[2]/div[2]/div/div[2]/span/span')\n",
    "comments[0].click()"
   ]
  },
  {
   "cell_type": "code",
   "execution_count": null,
   "metadata": {},
   "outputs": [],
   "source": [
    "comments[0]"
   ]
  },
  {
   "cell_type": "code",
   "execution_count": null,
   "metadata": {},
   "outputs": [],
   "source": [
    "reviews = driver.find_elements(By.XPATH, value=\"/html/body/div[1]/div/div[1]/div/div[4]/div/div/div[1]/div/div[2]/div/div/div/div/div/div/div/div[2]/div[2]/div/div/div[2]/div/div[2]/div[3]/div[2]/div/div/div/div[1]/div[2]/div[2]/div[1]/div[1]/div/div/div/div\")\n",
    "reviews"
   ]
  },
  {
   "cell_type": "code",
   "execution_count": null,
   "metadata": {},
   "outputs": [],
   "source": [
    "for review in reviews:\n",
    "    print(review.text)"
   ]
  },
  {
   "cell_type": "code",
   "execution_count": null,
   "metadata": {},
   "outputs": [],
   "source": [
    "elements = driver.find_elements(by= By.CSS_SELECTOR, value=\"div.x1gslohp.x78zum5.xdt5ytf\") # Locates reviews"
   ]
  },
  {
   "cell_type": "code",
   "execution_count": null,
   "metadata": {},
   "outputs": [],
   "source": [
    "classes = [element.get_attribute(\"class\") for element in elements]\n",
    "len(classes)"
   ]
  },
  {
   "cell_type": "code",
   "execution_count": null,
   "metadata": {},
   "outputs": [],
   "source": [
    "for i in classes:\n",
    "    print(i)"
   ]
  },
  {
   "cell_type": "code",
   "execution_count": null,
   "metadata": {},
   "outputs": [],
   "source": []
  },
  {
   "cell_type": "code",
   "execution_count": null,
   "metadata": {},
   "outputs": [],
   "source": []
  },
  {
   "cell_type": "code",
   "execution_count": null,
   "metadata": {},
   "outputs": [],
   "source": []
  },
  {
   "cell_type": "code",
   "execution_count": null,
   "metadata": {},
   "outputs": [],
   "source": [
    "dates = driver.find_elements(by= By.CLASS_NAME, value=\"bp9Aid\")\n",
    "\n",
    "for date in dates:\n",
    "    print(date.text)"
   ]
  },
  {
   "cell_type": "code",
   "execution_count": null,
   "metadata": {},
   "outputs": [],
   "source": [
    "reviews = driver.find_elements(by= By.CLASS_NAME, value=\"h3YV2d\") # Locates reviews\n",
    "dates = driver.find_elements(by= By.CLASS_NAME, value=\"bp9Aid\")"
   ]
  },
  {
   "cell_type": "code",
   "execution_count": null,
   "metadata": {},
   "outputs": [],
   "source": [
    "def collect_data():\n",
    "    time.sleep(WAIT_TIME)\n",
    "    reviews = driver.find_elements(by= By.CLASS_NAME, value=\"h3YV2d\") # Locates reviews\n",
    "    dates = driver.find_elements(by= By.CLASS_NAME, value=\"bp9Aid\")\n",
    "    ratings = driver.find_elements(by= By.CLASS_NAME, value=\"iXRFPc\")\n",
    "    time.sleep(WAIT_TIME)\n",
    "    for (review, date, rating) in zip(reviews, dates, ratings):\n",
    "        review = review.text\n",
    "        date = date.text\n",
    "        rating = rating.get_attribute(\"aria-label\")\n",
    "        rating = re.findall(\"\\d\", rating)\n",
    "        \n",
    "        reviews_list.append(review)\n",
    "        ratings_list.append(rating)\n",
    "        dates_list.append(date)\n",
    "    \n",
    "    app_reviews['reviews'] = reviews_list\n",
    "    app_reviews['ratings'] = ratings_list\n",
    "    app_reviews['date'] = dates_list\n",
    "    driver.quit()"
   ]
  },
  {
   "cell_type": "code",
   "execution_count": null,
   "metadata": {},
   "outputs": [],
   "source": [
    "def export_df():\n",
    "    app_reviews_df = pd.DataFrame(app_reviews)\n",
    "    app_reviews_df = app_reviews_df.iloc[1: ,]\n",
    "    time.sleep(2)\n",
    "    app_reviews_df.to_csv('app_reviews_df.csv', index=False)\n",
    "    data_rows = \"{:,}\".format(app_reviews_df.shape[0])\n",
    "    print(\"\\n\"f\"{Fore.LIGHTGREEN_EX}{data_rows} rows of data have been saved to downloadas as app_reviews_df.\")"
   ]
  },
  {
   "cell_type": "code",
   "execution_count": null,
   "metadata": {},
   "outputs": [],
   "source": [
    "import pandas as pd\n",
    "\n",
    "# Giả sử bạn có một DataFrame như sau:\n",
    "df = pd.DataFrame({\n",
    "    'date': ['8 tháng 3, 2023', '5 tháng 3, 2023']\n",
    "})\n",
    "\n",
    "# Chuyển đổi cột 'date' sang định dạng ngày tháng mong muốn\n",
    "# df['date'] = pd.to_datetime(df['date'], format='%d tháng %m, %Y').dt.strftime('%Y-%m-%d')\n",
    "\n",
    "print(df)"
   ]
  },
  {
   "cell_type": "code",
   "execution_count": null,
   "metadata": {},
   "outputs": [],
   "source": [
    "df.to_csv('df.csv', index=False, encoding='utf-8')"
   ]
  },
  {
   "cell_type": "code",
   "execution_count": null,
   "metadata": {},
   "outputs": [],
   "source": [
    "df1 = pd.read_csv('df.csv')\n",
    "df1.head()"
   ]
  },
  {
   "cell_type": "code",
   "execution_count": null,
   "metadata": {},
   "outputs": [],
   "source": [
    "import pandas as pd\n",
    "\n",
    "app_reviews_df = pd.read_csv('app_reviews_df.csv')\n",
    "app_reviews_df.head()"
   ]
  },
  {
   "cell_type": "code",
   "execution_count": null,
   "metadata": {},
   "outputs": [],
   "source": [
    "app_reviews_df.to_excel('your_file.xlsx', encoding='utf-8', index=False)\n"
   ]
  },
  {
   "cell_type": "code",
   "execution_count": null,
   "metadata": {},
   "outputs": [],
   "source": [
    "app_reviews_df.count()"
   ]
  },
  {
   "cell_type": "code",
   "execution_count": null,
   "metadata": {},
   "outputs": [],
   "source": [
    "app_reviews_df.groupby('date').agg({'ratings':'count'}).sort_values(by='date', ascending=True)"
   ]
  },
  {
   "cell_type": "code",
   "execution_count": null,
   "metadata": {},
   "outputs": [],
   "source": [
    "HOST = \"10.60.43.32\"\n",
    "PORT = \"5432\"\n",
    "DB_NAME = \"ttl3dm\"\n",
    "\n",
    "URL = 'jdbc:postgresql://' + HOST + ':' + PORT + '/' + DB_NAME\n",
    "\n",
    "DRIVER = \"org.postgresql.Driver\"\n",
    "USER = 'ttl3dm_ro'\n",
    "PASSWORD = 'YUFTbNPc0lkgbgHN7z0T'\n",
    "\n",
    "user_SQL = '''(SELECT user_id, first_login_time ,is_farmer FROM ops.user_profile WHERE \"first_login_time\" >= '2023-01-01 00:00:00') as a'''"
   ]
  },
  {
   "cell_type": "code",
   "execution_count": null,
   "metadata": {},
   "outputs": [],
   "source": [
    "import findspark\n",
    "findspark.init()\n",
    "\n",
    "from pyspark.sql import SparkSession"
   ]
  },
  {
   "cell_type": "code",
   "execution_count": null,
   "metadata": {},
   "outputs": [],
   "source": [
    "spark = SparkSession.builder\\\n",
    "    .config(\"spark.jars.packages\", \"org.postgresql:postgresql:42.6.0\")\\\n",
    "    .getOrCreate()"
   ]
  },
  {
   "cell_type": "code",
   "execution_count": null,
   "metadata": {},
   "outputs": [],
   "source": [
    "user_profile = spark.read.format('jdbc').options(url = URL , driver = DRIVER , dbtable = user_SQL \\\n",
    "                                       , user=USER , password = PASSWORD).load()"
   ]
  },
  {
   "cell_type": "code",
   "execution_count": null,
   "metadata": {},
   "outputs": [],
   "source": []
  }
 ],
 "metadata": {
  "kernelspec": {
   "display_name": "base",
   "language": "python",
   "name": "python3"
  },
  "language_info": {
   "codemirror_mode": {
    "name": "ipython",
    "version": 3
   },
   "file_extension": ".py",
   "mimetype": "text/x-python",
   "name": "python",
   "nbconvert_exporter": "python",
   "pygments_lexer": "ipython3",
   "version": "3.11.3"
  }
 },
 "nbformat": 4,
 "nbformat_minor": 2
}
