{
 "cells": [
  {
   "cell_type": "code",
   "execution_count": 1,
   "metadata": {},
   "outputs": [],
   "source": [
    "from selenium import webdriver\n",
    "from selenium.webdriver.common.by import By\n",
    "from selenium.webdriver.support.ui import WebDriverWait\n",
    "from selenium.webdriver.support import expected_conditions as EC\n",
    "from bs4 import BeautifulSoup\n",
    "import time\n",
    "\n",
    "\n",
    "url = f'https://appstoreconnect.apple.com/apps/1620319514/distribution/activity/ios/ratingsResponses?m='\n",
    "\n",
    "# Initialize Chrome webdriver\n",
    "driver = webdriver.Chrome()\n",
    "# Navigate to the webpage\n",
    "driver.get(url)\n",
    "\n",
    "# Reload the page (Equivalent to pressing F5)\n",
    "driver.refresh()\n",
    "\n",
    "# Define a custom wait condition to wait until the body tag's class changes\n",
    "class body_class_changes(object):\n",
    "    def __init__(self, locator, class_name):\n",
    "        self.locator = locator\n",
    "        self.class_name = class_name\n",
    "\n",
    "    def __call__(self, driver):\n",
    "        element = driver.find_element(*self.locator)\n",
    "        current_class = element.get_attribute(\"class\")\n",
    "        return self.class_name in current_class\n",
    "\n",
    "# Wait for the body tag's class to change\n",
    "wait = WebDriverWait(driver, 10)\n",
    "wait.until(body_class_changes((By.TAG_NAME, \"body\"), \"tb-default-theme idms-login login-page login-type-asc page-ready\"))\n",
    "\n",
    "# Wait for the iframe to be present\n",
    "wait = WebDriverWait(driver, 10)\n",
    "iframe = wait.until(EC.presence_of_element_located((By.TAG_NAME, \"iframe\")))\n",
    "\n",
    "# Switch to the iframe\n",
    "driver.switch_to.frame(iframe)\n",
    "\n",
    "# Now you can interact with elements inside the iframe\n",
    "# For example, find and interact with the desired element inside the iframe\n",
    "input_element_inside_iframe_user = driver.find_element(By.ID, \"account_name_text_field\")\n",
    "input_element_inside_iframe_user.send_keys('hauct@vng.com.vn')\n",
    "\n",
    "next_button = driver.find_element(By.XPATH, '/html/body/div[3]/apple-auth/div/div[1]/div/sign-in/div/div[1]/button[1]/i')\n",
    "next_button.click()\n",
    "time.sleep(2)\n",
    "\n",
    "input_element_inside_iframe_pass = driver.find_element(By.ID, \"password_text_field\")\n",
    "input_element_inside_iframe_pass.send_keys('Haudau156')\n",
    "\n",
    "next_button = driver.find_element(By.XPATH, '/html/body/div[3]/apple-auth/div/div[1]/div/sign-in/div/div[1]/button[1]/i')\n",
    "next_button.click()\n",
    "time.sleep(20)\n",
    "# Now the body tag's class has changed, you ca|n continue with your script\n",
    "# For example, you can interact with elements on the page or perform other actions\n",
    "# Get the page source after clicking the button\n",
    "# page_source = driver.page_source\n",
    "\n",
    "# Parse the page source with Beautiful Soup\n",
    "# soup = BeautifulSoup(page_source, 'html.parser')\n",
    "# Close the webdriver\n",
    "# driver.quit()"
   ]
  },
  {
   "cell_type": "code",
   "execution_count": 3,
   "metadata": {},
   "outputs": [],
   "source": [
    "driver.switch_to.default_content()"
   ]
  },
  {
   "cell_type": "code",
   "execution_count": 4,
   "metadata": {},
   "outputs": [],
   "source": [
    "iframe = driver.find_element(By.XPATH, '/html/body/div[2]/div/div[2]/div/main/div/div/div/div/div[1]/div[2]/div/div/div/div[2]/iframe')\n",
    "driver.switch_to.frame(iframe)\n",
    "\n",
    "driver.find_element(By.XPATH, '/html/body/div[1]/div[5]/div[5]/div[2]/div[2]/div[3]/div[1]/div[3]/section/div[1]/div[1]/a/span[2]').click()\n",
    "driver.find_element(By.XPATH, '/html/body/div[1]/div[5]/div[5]/div[2]/div[2]/div[3]/div[1]/div[3]/section/div[1]/div[1]/div/ul/li[146]').click()"
   ]
  },
  {
   "cell_type": "code",
   "execution_count": null,
   "metadata": {},
   "outputs": [],
   "source": []
  },
  {
   "cell_type": "code",
   "execution_count": null,
   "metadata": {},
   "outputs": [],
   "source": [
    "page_source = driver.page_source\n",
    "soup = BeautifulSoup(page_source, 'html.parser')"
   ]
  },
  {
   "cell_type": "code",
   "execution_count": null,
   "metadata": {},
   "outputs": [],
   "source": [
    "texts = [div.get_text() for div in soup.find_all('div', {'class': 'ng-binding', 'ng-bind': 'review.value.review'})]\n",
    "len(texts)"
   ]
  },
  {
   "cell_type": "code",
   "execution_count": null,
   "metadata": {},
   "outputs": [],
   "source": []
  },
  {
   "cell_type": "code",
   "execution_count": null,
   "metadata": {},
   "outputs": [],
   "source": []
  },
  {
   "cell_type": "code",
   "execution_count": null,
   "metadata": {},
   "outputs": [],
   "source": [
    "iframe = driver.find_element(By.XPATH, '/html/body/div[2]/div/div[2]/div/main/div/div/div/div/div[1]/div[2]/div/div/div/div[2]/iframe')\n",
    "driver.switch_to.frame(iframe)"
   ]
  },
  {
   "cell_type": "code",
   "execution_count": null,
   "metadata": {},
   "outputs": [],
   "source": [
    "page_source = driver.page_source\n",
    "soup = BeautifulSoup(page_source, 'html.parser')"
   ]
  },
  {
   "cell_type": "code",
   "execution_count": null,
   "metadata": {},
   "outputs": [],
   "source": [
    "print(soup.prettify())"
   ]
  },
  {
   "cell_type": "code",
   "execution_count": null,
   "metadata": {},
   "outputs": [],
   "source": [
    "texts = [div.get_text() for div in soup.find_all('div', {'class': 'ng-binding', 'ng-bind': 'review.value.review'})]"
   ]
  },
  {
   "cell_type": "code",
   "execution_count": null,
   "metadata": {},
   "outputs": [],
   "source": [
    "len(texts)"
   ]
  },
  {
   "cell_type": "code",
   "execution_count": null,
   "metadata": {},
   "outputs": [],
   "source": [
    "dates = [app_convert_datetime(span.get_text()) for span in soup.find_all('span', {'class': 'ng-binding ng-scope', 'ng-bind': \"l10n.interpolate('ITC.apps.r2d2.universal.activity.ratings.review.meta', {USER: review.value.nickname, DATE: ITC.time.showAbbreviatedDate(review.value.lastModified)})\", 'ng-if': \"!review.value.edited\"})]\n",
    "len(dates)"
   ]
  },
  {
   "cell_type": "code",
   "execution_count": null,
   "metadata": {},
   "outputs": [],
   "source": [
    "texts = []\n",
    "for i in range(1, 6):\n",
    "    class_name = f'stars alt count-{i}-0'\n",
    "    ng_bind_value = str(i)\n",
    "    divs = soup.find_all('div', {'class': class_name, 'ng-bind': ng_bind_value})\n",
    "    for div in divs:\n",
    "        texts.append(div.get_text())"
   ]
  },
  {
   "cell_type": "code",
   "execution_count": null,
   "metadata": {},
   "outputs": [],
   "source": [
    "len(texts)"
   ]
  },
  {
   "cell_type": "code",
   "execution_count": null,
   "metadata": {},
   "outputs": [],
   "source": [
    "lambda x: datetime.strptime(x, '%b %d, %Y').strftime('%Y-%m-%d')"
   ]
  },
  {
   "cell_type": "code",
   "execution_count": null,
   "metadata": {},
   "outputs": [],
   "source": [
    "def get_list_reviews(soup):\n",
    "    texts = [div.get_text() for div in soup.find_all('div', {'class': 'ng-binding', 'ng-bind': 'review.value.review'})]\n",
    "    return texts\n",
    "\n",
    "def get_list_stars(soup):\n",
    "    texts = []\n",
    "    for i in range(1, 6):\n",
    "        class_name = f'stars alt count-{i}-0'\n",
    "        ng_bind_value = str(i)\n",
    "        divs = soup.find_all('div', {'class': class_name, 'ng-bind': ng_bind_value})\n",
    "        for div in divs:\n",
    "            texts.append(div.get_text())\n",
    "    return texts\n",
    "\n",
    "def app_convert_datetime(text):\n",
    "    text = text.split('–')[1].strip(' ')\n",
    "    text = datetime.strptime(text, '%b %d, %Y').strftime('%Y-%m-%d')\n",
    "    return text\n",
    "\n",
    "def get_list_dates(soup):\n",
    "    text = [app_convert_datetime(span.get_text()) for span in soup.find_all('span', {'class': 'ng-binding ng-scope', 'ng-bind': \"l10n.interpolate('ITC.apps.r2d2.universal.activity.ratings.review.meta', {USER: review.value.nickname, DATE: ITC.time.showAbbreviatedDate(review.value.lastModified)})\", 'ng-if': \"!review.value.edited\"})]\n",
    "    return text"
   ]
  },
  {
   "cell_type": "code",
   "execution_count": null,
   "metadata": {},
   "outputs": [],
   "source": [
    "button = driver.find_element(By.XPATH, '/html/body/div[1]/div[5]/div[5]/div[2]/div[2]/div[3]/div[1]/div[3]/section/div[1]/div[1]/a/span[2]')\n",
    "button.click()"
   ]
  },
  {
   "cell_type": "code",
   "execution_count": null,
   "metadata": {},
   "outputs": [],
   "source": [
    "button = driver.find_element(By.XPATH, '/html/body/div[1]/div[5]/div[5]/div[2]/div[2]/div[3]/div[1]/div[3]/section/div[1]/div[1]/div/ul/li[146]')\n",
    "button.click()"
   ]
  },
  {
   "cell_type": "code",
   "execution_count": null,
   "metadata": {},
   "outputs": [],
   "source": []
  },
  {
   "cell_type": "code",
   "execution_count": null,
   "metadata": {},
   "outputs": [],
   "source": [
    "for i in comments:\n",
    "    print(i)"
   ]
  },
  {
   "cell_type": "code",
   "execution_count": 8,
   "metadata": {},
   "outputs": [],
   "source": [
    "import pandas as pd\n",
    "from datetime import datetime\n",
    "import time\n",
    "from tqdm import tqdm\n",
    "from info import *\n",
    "import sqldf\n",
    "from itertools import zip_longest\n",
    "\n",
    "from selenium import webdriver\n",
    "from selenium.webdriver.common.by import By\n",
    "from selenium.webdriver.support.ui import WebDriverWait\n",
    "from selenium.webdriver.chrome.service import Service\n",
    "from selenium.webdriver.support import expected_conditions as EC\n",
    "from bs4 import BeautifulSoup\n",
    "\n",
    "import google.generativeai as genai\n",
    "import psycopg2"
   ]
  },
  {
   "cell_type": "code",
   "execution_count": 9,
   "metadata": {},
   "outputs": [],
   "source": [
    "############################ CRAWL DATA ############################\n",
    "# Connect to the web to crawl\n",
    "def connect_to_web(url):\n",
    "    ## Set up Edge webdriver options.\n",
    "    options = webdriver.EdgeOptions()\n",
    "    options.headless = True # Runs driver without opening a chrome browser.\n",
    "    options.add_experimental_option(\"excludeSwitches\", [\"enable-logging\"])\n",
    "\n",
    "    ## Set the path to your webdriver\n",
    "    service = Service('msedgedriver.exe')\n",
    "\n",
    "    ## Initiate the browser\n",
    "    driver = webdriver.Edge(service=service, options=options)\n",
    "    driver.get(url)\n",
    "    driver.refresh()\n",
    "    \n",
    "    ## Insert username and password infomation\n",
    "    ### Wait until the class of the body tag changes\n",
    "    WebDriverWait(driver, 10).until(\n",
    "        lambda d: \"tb-default-theme idms-login login-page login-type-asc page-ready\" in d.find_element(By.TAG_NAME, \"body\").get_attribute(\"class\")\n",
    "    )\n",
    "\n",
    "    ### Wait until the iframe appears\n",
    "    iframe = WebDriverWait(driver, 10).until(EC.presence_of_element_located((By.TAG_NAME, \"iframe\")))\n",
    "\n",
    "    ### Switch to the iframe containing the user info input fields\n",
    "    driver.switch_to.frame(iframe)\n",
    "\n",
    "    ### Enter user info\n",
    "    driver.find_element(By.ID, \"account_name_text_field\").send_keys('hauct@vng.com.vn')\n",
    "    driver.find_element(By.XPATH, '/html/body/div[3]/apple-auth/div/div[1]/div/sign-in/div/div[1]/button[1]/i').click()\n",
    "    time.sleep(2)\n",
    "\n",
    "    driver.find_element(By.ID, \"password_text_field\").send_keys('Haudau156')\n",
    "    driver.find_element(By.XPATH, '/html/body/div[3]/apple-auth/div/div[1]/div/sign-in/div/div[1]/button[1]/i').click()\n",
    "    time.sleep(30)\n",
    "\n",
    "    ### Return to the main content and return the driver\n",
    "    driver.switch_to.default_content()\n",
    "    time.sleep(10)\n",
    "    print(f'Connected to {url}')\n",
    "    return driver"
   ]
  },
  {
   "cell_type": "code",
   "execution_count": 10,
   "metadata": {},
   "outputs": [],
   "source": [
    "# Crawl data\n",
    "## Function to scroll the target div until the end\n",
    "def scroll_target_div(driver):\n",
    "    target_div = driver.find_element(By.CSS_SELECTOR, '#main-ui-view > div.flexcol.ng-scope > div.pane-layout.ng-scope > div.pane-layout-content.ng-scope > div.pane-layout-content-wrapper.arrtwodeetwo.ng-scope')\n",
    "    driver.execute_script('arguments[0].scrollTop = arguments[0].scrollHeight', target_div)\n",
    "\n",
    "## Function to get all reviews in soup type\n",
    "def crawl_reviews(driver):\n",
    "    ### Thay đổi sang frame chứa review và comment\n",
    "    iframe = driver.find_element(By.XPATH, '/html/body/div[2]/div/div[2]/div/main/div/div/div/div/div[1]/div[2]/div/div/div/div[2]/iframe')\n",
    "    driver.switch_to.frame(iframe)\n",
    "\n",
    "    ### Chọn qua country \"VN\"\n",
    "    driver.find_element(By.XPATH, '/html/body/div[1]/div[5]/div[5]/div[2]/div[2]/div[3]/div[1]/div[3]/section/div[1]/div[1]/a/span[2]').click()\n",
    "    driver.find_element(By.XPATH, '/html/body/div[1]/div[5]/div[5]/div[2]/div[2]/div[3]/div[1]/div[3]/section/div[1]/div[1]/div/ul/li[146]').click()\n",
    "\n",
    "    ### Sroll tới cuối cùng để view toàn bộ comment\n",
    "    scroll_target_div(driver)\n",
    "\n",
    "    ### Lấy ra soup\n",
    "    page_source = driver.page_source\n",
    "    soup = BeautifulSoup(page_source, 'html.parser')\n",
    "    print('Got source of page !!!')\n",
    "\n",
    "    ### Close the browser\n",
    "    driver.quit()\n",
    "    return soup"
   ]
  },
  {
   "cell_type": "code",
   "execution_count": 11,
   "metadata": {},
   "outputs": [
    {
     "name": "stdout",
     "output_type": "stream",
     "text": [
      "Connected to https://appstoreconnect.apple.com/login?targetUrl=%2Fapps%2F1620319514%2Fdistribution%2Factivity%2Fios%2FratingsResponses%3Fm%3D\n",
      "Got source of page !!!\n"
     ]
    }
   ],
   "source": [
    "GAME = 'tlbb2'\n",
    "\n",
    "driver = connect_to_web(APP_URL)\n",
    "soup = crawl_reviews(driver)"
   ]
  },
  {
   "cell_type": "code",
   "execution_count": 14,
   "metadata": {},
   "outputs": [],
   "source": [
    "## Function to collect data from soup, transform into a pandas df\n",
    "### Supportively transform functions\n",
    "def get_list_contents(soup):\n",
    "    texts = [div.get_text() for div in soup.find_all('div', {'class': 'ng-binding', 'ng-bind': 'review.value.review'})]\n",
    "    return texts\n",
    "\n",
    "def get_list_stars(soup):\n",
    "    texts = []\n",
    "    for i in range(1, 6):\n",
    "        class_name = f'stars alt count-{i}-0'\n",
    "        ng_bind_value = str(i)\n",
    "        divs = soup.find_all('div', {'class': class_name, 'ng-bind': ng_bind_value})\n",
    "        for div in divs:\n",
    "            texts.append(div.get_text())\n",
    "    return texts\n",
    "\n",
    "def app_convert_datetime(text):\n",
    "    text = text.split('–')[1].strip(' ')\n",
    "    text = datetime.strptime(text, '%b %d, %Y').strftime('%Y-%m-%d')\n",
    "    return text\n",
    "\n",
    "def get_list_dates(soup):\n",
    "    text = [app_convert_datetime(span.get_text()) for span in soup.find_all('span', {'class': 'ng-binding ng-scope', 'ng-bind': \"l10n.interpolate('ITC.apps.r2d2.universal.activity.ratings.review.meta', {USER: review.value.nickname, DATE: ITC.time.showAbbreviatedDate(review.value.lastModified)})\", 'ng-if': \"!review.value.edited\"})]\n",
    "    return text\n",
    "\n",
    "### main function\n",
    "def get_df(soup):\n",
    "    review_dates = get_list_dates(soup)\n",
    "    review_stars = get_list_stars(soup)\n",
    "    review_contents = get_list_contents(soup)\n",
    "\n",
    "    ### Convert to a pandas dataframe\n",
    "    reviews_dict = []\n",
    "    print('Creating a dataframe')\n",
    "\n",
    "    for review_date, review_star, review_content in zip_longest(review_dates, review_stars, review_contents):\n",
    "        row = {\n",
    "            \"review_date\": review_date,\n",
    "            \"review_star\": review_star,\n",
    "            \"review_content\": review_content\n",
    "        }\n",
    "        reviews_dict.append(row)\n",
    "    print('Creating completed !')\n",
    "\n",
    "    app_reviews = pd.DataFrame(reviews_dict)\n",
    "    return app_reviews"
   ]
  },
  {
   "cell_type": "code",
   "execution_count": 20,
   "metadata": {},
   "outputs": [
    {
     "data": {
      "text/plain": [
       "[]"
      ]
     },
     "execution_count": 20,
     "metadata": {},
     "output_type": "execute_result"
    }
   ],
   "source": [
    "texts = [div.get_text() for div in soup.find_all('div', {'class': 'ng-binding', 'ng-bind': 'review.value.review'})]\n",
    "texts"
   ]
  },
  {
   "cell_type": "code",
   "execution_count": null,
   "metadata": {},
   "outputs": [],
   "source": []
  },
  {
   "cell_type": "code",
   "execution_count": 19,
   "metadata": {},
   "outputs": [
    {
     "data": {
      "text/plain": [
       "[]"
      ]
     },
     "execution_count": 19,
     "metadata": {},
     "output_type": "execute_result"
    }
   ],
   "source": [
    "review_dates = get_list_dates(soup)\n",
    "review_dates"
   ]
  },
  {
   "cell_type": "code",
   "execution_count": 15,
   "metadata": {},
   "outputs": [
    {
     "name": "stdout",
     "output_type": "stream",
     "text": [
      "Creating a dataframe\n",
      "Creating completed !\n"
     ]
    }
   ],
   "source": [
    "app_reviews = get_df(soup)"
   ]
  },
  {
   "cell_type": "code",
   "execution_count": 16,
   "metadata": {},
   "outputs": [
    {
     "data": {
      "text/html": [
       "<div>\n",
       "<style scoped>\n",
       "    .dataframe tbody tr th:only-of-type {\n",
       "        vertical-align: middle;\n",
       "    }\n",
       "\n",
       "    .dataframe tbody tr th {\n",
       "        vertical-align: top;\n",
       "    }\n",
       "\n",
       "    .dataframe thead th {\n",
       "        text-align: right;\n",
       "    }\n",
       "</style>\n",
       "<table border=\"1\" class=\"dataframe\">\n",
       "  <thead>\n",
       "    <tr style=\"text-align: right;\">\n",
       "      <th></th>\n",
       "    </tr>\n",
       "  </thead>\n",
       "  <tbody>\n",
       "  </tbody>\n",
       "</table>\n",
       "</div>"
      ],
      "text/plain": [
       "Empty DataFrame\n",
       "Columns: []\n",
       "Index: []"
      ]
     },
     "execution_count": 16,
     "metadata": {},
     "output_type": "execute_result"
    }
   ],
   "source": [
    "app_reviews.head()"
   ]
  },
  {
   "cell_type": "code",
   "execution_count": 17,
   "metadata": {},
   "outputs": [
    {
     "data": {
      "text/html": [
       "<div>\n",
       "<style scoped>\n",
       "    .dataframe tbody tr th:only-of-type {\n",
       "        vertical-align: middle;\n",
       "    }\n",
       "\n",
       "    .dataframe tbody tr th {\n",
       "        vertical-align: top;\n",
       "    }\n",
       "\n",
       "    .dataframe thead th {\n",
       "        text-align: right;\n",
       "    }\n",
       "</style>\n",
       "<table border=\"1\" class=\"dataframe\">\n",
       "  <thead>\n",
       "    <tr style=\"text-align: right;\">\n",
       "      <th></th>\n",
       "    </tr>\n",
       "  </thead>\n",
       "  <tbody>\n",
       "  </tbody>\n",
       "</table>\n",
       "</div>"
      ],
      "text/plain": [
       "Empty DataFrame\n",
       "Columns: []\n",
       "Index: []"
      ]
     },
     "execution_count": 17,
     "metadata": {},
     "output_type": "execute_result"
    }
   ],
   "source": [
    "app_reviews"
   ]
  },
  {
   "cell_type": "code",
   "execution_count": null,
   "metadata": {},
   "outputs": [],
   "source": []
  }
 ],
 "metadata": {
  "kernelspec": {
   "display_name": "Python 3",
   "language": "python",
   "name": "python3"
  },
  "language_info": {
   "codemirror_mode": {
    "name": "ipython",
    "version": 3
   },
   "file_extension": ".py",
   "mimetype": "text/x-python",
   "name": "python",
   "nbconvert_exporter": "python",
   "pygments_lexer": "ipython3",
   "version": "3.9.0"
  }
 },
 "nbformat": 4,
 "nbformat_minor": 2
}
