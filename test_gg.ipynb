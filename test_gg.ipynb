{
 "cells": [
  {
   "cell_type": "code",
   "execution_count": 1,
   "metadata": {},
   "outputs": [],
   "source": [
    "import pandas as pd\n",
    "from datetime import datetime\n",
    "import time\n",
    "from tqdm import tqdm\n",
    "from info import *\n",
    "import sqldf\n",
    "\n",
    "from selenium import webdriver\n",
    "from selenium.webdriver.common.by import By\n",
    "from selenium.webdriver.chrome.service import Service\n",
    "from bs4 import BeautifulSoup\n",
    "\n",
    "import google.generativeai as genai\n",
    "import psycopg2"
   ]
  },
  {
   "cell_type": "code",
   "execution_count": 2,
   "metadata": {},
   "outputs": [],
   "source": [
    "def connect_to_web(url):\n",
    "    ## Set up Edge webdriver options.\n",
    "    options = webdriver.EdgeOptions()\n",
    "    options.headless = True # Runs driver without opening a chrome browser.\n",
    "    options.add_experimental_option(\"excludeSwitches\", [\"enable-logging\"])\n",
    "\n",
    "    ## Set the path to your webdriver\n",
    "    service = Service('msedgedriver.exe')\n",
    "\n",
    "    ## Initiate the browser\n",
    "    driver = webdriver.Edge(service=service, options=options)\n",
    "    driver.get(url)\n",
    "    print(f'Connected to {url}')\n",
    "    time.sleep(10)\n",
    "    return driver\n",
    "\n",
    "def scroll_target_div(driver):\n",
    "    target_div = driver.find_element(By.CLASS_NAME, \"fysCi\")\n",
    "    \n",
    "    # Get the initial scroll height\n",
    "    last_height = target_div.get_attribute('scrollHeight')\n",
    "    while True:\n",
    "        # Scroll to the bottom of the div\n",
    "        driver.execute_script(\"arguments[0].scrollTop = arguments[0].scrollHeight\", target_div)\n",
    "        \n",
    "        # Get the current scroll height\n",
    "        current_height = target_div.get_attribute('scrollHeight')\n",
    "\n",
    "        # Wait for the page to load\n",
    "        time.sleep(5)\n",
    "\n",
    "        # If the scroll height hasn't changed, exit the loop\n",
    "        if current_height == last_height:\n",
    "            break\n",
    "\n",
    "        # Update the last height\n",
    "        last_height = current_height"
   ]
  },
  {
   "cell_type": "code",
   "execution_count": 3,
   "metadata": {},
   "outputs": [
    {
     "name": "stdout",
     "output_type": "stream",
     "text": [
      "Connected to https://play.google.com/store/apps/details?id=vng.games.thienlong.kiemhiep3d.mobile&hl=vi\n"
     ]
    }
   ],
   "source": [
    "driver = connect_to_web(GG_URL)"
   ]
  },
  {
   "cell_type": "code",
   "execution_count": 4,
   "metadata": {},
   "outputs": [],
   "source": [
    "driver.find_element(By.CSS_SELECTOR, '#yDmH0d > c-wiz.SSPGKf.Czez9d > div > div > div:nth-child(1) > div > div.wkMJlb.YWi3ub > div > div.qZmL0 > div:nth-child(1) > c-wiz:nth-child(5) > section > header > div > div:nth-child(2) > button > i').click()\n",
    "time.sleep(2)\n",
    "\n",
    "# ### Click to sort button\n",
    "driver.find_element(By.CSS_SELECTOR, '#sortBy_1 > div.kW9Bj > i').click()\n",
    "time.sleep(2)\n",
    "\n",
    "### Click to newest button\n",
    "driver.find_element(By.CSS_SELECTOR, '#yDmH0d > div.VfPpkd-Sx9Kwc.cC1eCc.UDxLd.PzCPDd.HQdjr.VfPpkd-Sx9Kwc-OWXEXe-FNFY6c > div.VfPpkd-wzTsW > div > div > div > div > div.fysCi > div.JPdR6b.e5Emjc.ah7Sve.qjTEB > div > div > span:nth-child(2) > div.uyYuVb.oJeWuf > div.jO7h3c').click()\n",
    "time.sleep(2)"
   ]
  },
  {
   "cell_type": "code",
   "execution_count": 5,
   "metadata": {},
   "outputs": [
    {
     "ename": "TimeoutException",
     "evalue": "Message: timeout: Timed out receiving message from renderer: 300.000\n  (Session info: MicrosoftEdge=122.0.2365.80)\nStacktrace:\n\tGetHandleVerifier [0x00007FF64788B852+63538]\n\tMicrosoft::Applications::Events::ILogConfiguration::operator* [0x00007FF64780F6D2+238290]\n\t(No symbol) [0x00007FF647643407]\n\t(No symbol) [0x00007FF64762F3E8]\n\t(No symbol) [0x00007FF64762F2C4]\n\t(No symbol) [0x00007FF64762D917]\n\t(No symbol) [0x00007FF64762E62F]\n\t(No symbol) [0x00007FF647639E1B]\n\t(No symbol) [0x00007FF64764E346]\n\t(No symbol) [0x00007FF64765318A]\n\t(No symbol) [0x00007FF64762EF50]\n\t(No symbol) [0x00007FF64762ECA9]\n\t(No symbol) [0x00007FF64764E141]\n\t(No symbol) [0x00007FF6476C20BD]\n\t(No symbol) [0x00007FF6476A8A83]\n\t(No symbol) [0x00007FF64767E55E]\n\t(No symbol) [0x00007FF64767D71C]\n\t(No symbol) [0x00007FF64767E111]\n\tMicrosoft::Applications::Events::EventProperty::to_string [0x00007FF647A61D3C+1102764]\n\t(No symbol) [0x00007FF6476F25F6]\n\t(No symbol) [0x00007FF647783DAC]\n\t(No symbol) [0x00007FF64777BDA8]\n\tMicrosoft::Applications::Events::EventProperty::to_string [0x00007FF647A60C85+1098485]\n\tMicrosoft::Applications::Events::ILogConfiguration::operator* [0x00007FF647819E91+281233]\n\tMicrosoft::Applications::Events::ILogConfiguration::operator* [0x00007FF647814614+258580]\n\tMicrosoft::Applications::Events::ILogConfiguration::operator* [0x00007FF64781474F+258895]\n\tMicrosoft::Applications::Events::ILogConfiguration::operator* [0x00007FF647808F21+211745]\n\tBaseThreadInitThunk [0x00007FFA97C8257D+29]\n\tRtlUserThreadStart [0x00007FFA9942AA58+40]\n",
     "output_type": "error",
     "traceback": [
      "\u001b[1;31m---------------------------------------------------------------------------\u001b[0m",
      "\u001b[1;31mTimeoutException\u001b[0m                          Traceback (most recent call last)",
      "Cell \u001b[1;32mIn[5], line 1\u001b[0m\n\u001b[1;32m----> 1\u001b[0m scroll_target_div(driver)\n",
      "Cell \u001b[1;32mIn[2], line 24\u001b[0m, in \u001b[0;36mscroll_target_div\u001b[1;34m(driver)\u001b[0m\n\u001b[0;32m     21\u001b[0m last_height \u001b[38;5;241m=\u001b[39m target_div\u001b[38;5;241m.\u001b[39mget_attribute(\u001b[38;5;124m'\u001b[39m\u001b[38;5;124mscrollHeight\u001b[39m\u001b[38;5;124m'\u001b[39m)\n\u001b[0;32m     22\u001b[0m \u001b[38;5;28;01mwhile\u001b[39;00m \u001b[38;5;28;01mTrue\u001b[39;00m:\n\u001b[0;32m     23\u001b[0m     \u001b[38;5;66;03m# Scroll to the bottom of the div\u001b[39;00m\n\u001b[1;32m---> 24\u001b[0m     driver\u001b[38;5;241m.\u001b[39mexecute_script(\u001b[38;5;124m\"\u001b[39m\u001b[38;5;124marguments[0].scrollTop = arguments[0].scrollHeight\u001b[39m\u001b[38;5;124m\"\u001b[39m, target_div)\n\u001b[0;32m     26\u001b[0m     \u001b[38;5;66;03m# Wait for the page to load\u001b[39;00m\n\u001b[0;32m     27\u001b[0m     time\u001b[38;5;241m.\u001b[39msleep(\u001b[38;5;241m5\u001b[39m)\n",
      "File \u001b[1;32mc:\\Users\\cungt\\anaconda3\\Lib\\site-packages\\selenium\\webdriver\\remote\\webdriver.py:408\u001b[0m, in \u001b[0;36mWebDriver.execute_script\u001b[1;34m(self, script, *args)\u001b[0m\n\u001b[0;32m    405\u001b[0m converted_args \u001b[38;5;241m=\u001b[39m \u001b[38;5;28mlist\u001b[39m(args)\n\u001b[0;32m    406\u001b[0m command \u001b[38;5;241m=\u001b[39m Command\u001b[38;5;241m.\u001b[39mW3C_EXECUTE_SCRIPT\n\u001b[1;32m--> 408\u001b[0m \u001b[38;5;28;01mreturn\u001b[39;00m \u001b[38;5;28mself\u001b[39m\u001b[38;5;241m.\u001b[39mexecute(command, {\u001b[38;5;124m\"\u001b[39m\u001b[38;5;124mscript\u001b[39m\u001b[38;5;124m\"\u001b[39m: script, \u001b[38;5;124m\"\u001b[39m\u001b[38;5;124margs\u001b[39m\u001b[38;5;124m\"\u001b[39m: converted_args})[\u001b[38;5;124m\"\u001b[39m\u001b[38;5;124mvalue\u001b[39m\u001b[38;5;124m\"\u001b[39m]\n",
      "File \u001b[1;32mc:\\Users\\cungt\\anaconda3\\Lib\\site-packages\\selenium\\webdriver\\remote\\webdriver.py:348\u001b[0m, in \u001b[0;36mWebDriver.execute\u001b[1;34m(self, driver_command, params)\u001b[0m\n\u001b[0;32m    346\u001b[0m response \u001b[38;5;241m=\u001b[39m \u001b[38;5;28mself\u001b[39m\u001b[38;5;241m.\u001b[39mcommand_executor\u001b[38;5;241m.\u001b[39mexecute(driver_command, params)\n\u001b[0;32m    347\u001b[0m \u001b[38;5;28;01mif\u001b[39;00m response:\n\u001b[1;32m--> 348\u001b[0m     \u001b[38;5;28mself\u001b[39m\u001b[38;5;241m.\u001b[39merror_handler\u001b[38;5;241m.\u001b[39mcheck_response(response)\n\u001b[0;32m    349\u001b[0m     response[\u001b[38;5;124m\"\u001b[39m\u001b[38;5;124mvalue\u001b[39m\u001b[38;5;124m\"\u001b[39m] \u001b[38;5;241m=\u001b[39m \u001b[38;5;28mself\u001b[39m\u001b[38;5;241m.\u001b[39m_unwrap_value(response\u001b[38;5;241m.\u001b[39mget(\u001b[38;5;124m\"\u001b[39m\u001b[38;5;124mvalue\u001b[39m\u001b[38;5;124m\"\u001b[39m, \u001b[38;5;28;01mNone\u001b[39;00m))\n\u001b[0;32m    350\u001b[0m     \u001b[38;5;28;01mreturn\u001b[39;00m response\n",
      "File \u001b[1;32mc:\\Users\\cungt\\anaconda3\\Lib\\site-packages\\selenium\\webdriver\\remote\\errorhandler.py:229\u001b[0m, in \u001b[0;36mErrorHandler.check_response\u001b[1;34m(self, response)\u001b[0m\n\u001b[0;32m    227\u001b[0m         alert_text \u001b[38;5;241m=\u001b[39m value[\u001b[38;5;124m\"\u001b[39m\u001b[38;5;124malert\u001b[39m\u001b[38;5;124m\"\u001b[39m]\u001b[38;5;241m.\u001b[39mget(\u001b[38;5;124m\"\u001b[39m\u001b[38;5;124mtext\u001b[39m\u001b[38;5;124m\"\u001b[39m)\n\u001b[0;32m    228\u001b[0m     \u001b[38;5;28;01mraise\u001b[39;00m exception_class(message, screen, stacktrace, alert_text)  \u001b[38;5;66;03m# type: ignore[call-arg]  # mypy is not smart enough here\u001b[39;00m\n\u001b[1;32m--> 229\u001b[0m \u001b[38;5;28;01mraise\u001b[39;00m exception_class(message, screen, stacktrace)\n",
      "\u001b[1;31mTimeoutException\u001b[0m: Message: timeout: Timed out receiving message from renderer: 300.000\n  (Session info: MicrosoftEdge=122.0.2365.80)\nStacktrace:\n\tGetHandleVerifier [0x00007FF64788B852+63538]\n\tMicrosoft::Applications::Events::ILogConfiguration::operator* [0x00007FF64780F6D2+238290]\n\t(No symbol) [0x00007FF647643407]\n\t(No symbol) [0x00007FF64762F3E8]\n\t(No symbol) [0x00007FF64762F2C4]\n\t(No symbol) [0x00007FF64762D917]\n\t(No symbol) [0x00007FF64762E62F]\n\t(No symbol) [0x00007FF647639E1B]\n\t(No symbol) [0x00007FF64764E346]\n\t(No symbol) [0x00007FF64765318A]\n\t(No symbol) [0x00007FF64762EF50]\n\t(No symbol) [0x00007FF64762ECA9]\n\t(No symbol) [0x00007FF64764E141]\n\t(No symbol) [0x00007FF6476C20BD]\n\t(No symbol) [0x00007FF6476A8A83]\n\t(No symbol) [0x00007FF64767E55E]\n\t(No symbol) [0x00007FF64767D71C]\n\t(No symbol) [0x00007FF64767E111]\n\tMicrosoft::Applications::Events::EventProperty::to_string [0x00007FF647A61D3C+1102764]\n\t(No symbol) [0x00007FF6476F25F6]\n\t(No symbol) [0x00007FF647783DAC]\n\t(No symbol) [0x00007FF64777BDA8]\n\tMicrosoft::Applications::Events::EventProperty::to_string [0x00007FF647A60C85+1098485]\n\tMicrosoft::Applications::Events::ILogConfiguration::operator* [0x00007FF647819E91+281233]\n\tMicrosoft::Applications::Events::ILogConfiguration::operator* [0x00007FF647814614+258580]\n\tMicrosoft::Applications::Events::ILogConfiguration::operator* [0x00007FF64781474F+258895]\n\tMicrosoft::Applications::Events::ILogConfiguration::operator* [0x00007FF647808F21+211745]\n\tBaseThreadInitThunk [0x00007FFA97C8257D+29]\n\tRtlUserThreadStart [0x00007FFA9942AA58+40]\n"
     ]
    }
   ],
   "source": [
    "scroll_target_div(driver)"
   ]
  },
  {
   "cell_type": "code",
   "execution_count": 9,
   "metadata": {},
   "outputs": [],
   "source": [
    "import pandas as pd\n",
    "from datetime import datetime\n",
    "import time\n",
    "from tqdm import tqdm\n",
    "from info import *\n",
    "import sqldf\n",
    "from itertools import zip_longest\n",
    "\n",
    "\n",
    "from selenium import webdriver\n",
    "from selenium.webdriver.common.by import By\n",
    "from selenium.webdriver.support.ui import WebDriverWait\n",
    "from selenium.webdriver.chrome.service import Service\n",
    "from selenium.webdriver.support import expected_conditions as EC\n",
    "from bs4 import BeautifulSoup\n",
    "\n",
    "import google.generativeai as genai\n",
    "import psycopg2"
   ]
  },
  {
   "cell_type": "code",
   "execution_count": 10,
   "metadata": {},
   "outputs": [],
   "source": [
    "def connect_to_web(url):\n",
    "    ## Set up Edge webdriver options.\n",
    "    options = webdriver.EdgeOptions()\n",
    "    options.headless = True # Runs driver without opening a chrome browser.\n",
    "    options.add_experimental_option(\"excludeSwitches\", [\"enable-logging\"])\n",
    "\n",
    "    ## Set the path to your webdriver\n",
    "    service = Service('msedgedriver.exe')\n",
    "\n",
    "    ## Initiate the browser\n",
    "    driver = webdriver.Edge(service=service, options=options)\n",
    "    driver.get(url)\n",
    "    driver.refresh()\n",
    "    \n",
    "    ## Insert username and password infomation\n",
    "    ### Wait until the class of the body tag changes\n",
    "    WebDriverWait(driver, 10).until(\n",
    "        lambda d: \"tb-default-theme idms-login login-page login-type-asc page-ready\" in d.find_element(By.TAG_NAME, \"body\").get_attribute(\"class\")\n",
    "    )\n",
    "\n",
    "    ### Wait until the iframe appears\n",
    "    iframe = WebDriverWait(driver, 10).until(EC.presence_of_element_located((By.TAG_NAME, \"iframe\")))\n",
    "\n",
    "    ### Switch to the iframe containing the user info input fields\n",
    "    driver.switch_to.frame(iframe)\n",
    "\n",
    "    ### Enter user info\n",
    "    driver.find_element(By.ID, \"account_name_text_field\").send_keys('hauct@vng.com.vn')\n",
    "    driver.find_element(By.XPATH, '/html/body/div[3]/apple-auth/div/div[1]/div/sign-in/div/div[1]/button[1]/i').click()\n",
    "    time.sleep(2)\n",
    "\n",
    "    driver.find_element(By.ID, \"password_text_field\").send_keys('Haudau156')\n",
    "    driver.find_element(By.XPATH, '/html/body/div[3]/apple-auth/div/div[1]/div/sign-in/div/div[1]/button[1]/i').click()\n",
    "    time.sleep(60)\n",
    "\n",
    "    ### Return to the main content and return the driver\n",
    "    driver.switch_to.default_content()\n",
    "    print(f'Connected to {url}')\n",
    "    return driver"
   ]
  },
  {
   "cell_type": "code",
   "execution_count": 11,
   "metadata": {},
   "outputs": [],
   "source": [
    "def scroll_target_div(driver):\n",
    "    target_div = driver.find_element(By.XPATH, '//*[@id=\"main-ui-view\"]/div[5]/div[2]/div[2]/div[3]')\n",
    "    \n",
    "    # Get the initial scroll height\n",
    "    last_height = target_div.get_attribute('scrollHeight')\n",
    "    \n",
    "    while True:\n",
    "        # Scroll to the bottom of the div\n",
    "        driver.execute_script(\"arguments[0].scrollTop = arguments[0].scrollHeight\", target_div)\n",
    "        \n",
    "        # Get the current scroll height\n",
    "        current_height = target_div.get_attribute('scrollHeight')\n",
    "\n",
    "        # Wait for the page to load\n",
    "        time.sleep(5)\n",
    "\n",
    "        # If the scroll height hasn't changed, exit the loop\n",
    "        if current_height == last_height:\n",
    "            break\n",
    "\n",
    "        # Update the last height\n",
    "        last_height = current_height"
   ]
  },
  {
   "cell_type": "code",
   "execution_count": 12,
   "metadata": {},
   "outputs": [
    {
     "name": "stdout",
     "output_type": "stream",
     "text": [
      "Connected to https://appstoreconnect.apple.com/login?targetUrl=%2Fapps%2F1620319514%2Fdistribution%2Factivity%2Fios%2FratingsResponses%3Fm%3D\n"
     ]
    }
   ],
   "source": [
    "driver = connect_to_web(APP_URL)"
   ]
  },
  {
   "cell_type": "code",
   "execution_count": 13,
   "metadata": {},
   "outputs": [
    {
     "ename": "NoSuchElementException",
     "evalue": "Message: no such element: Unable to locate element: {\"method\":\"css selector\",\"selector\":\".fysCi\"}\n  (Session info: MicrosoftEdge=122.0.2365.92); For documentation on this error, please visit: https://www.selenium.dev/documentation/webdriver/troubleshooting/errors#no-such-element-exception\nStacktrace:\n\tGetHandleVerifier [0x00007FF64788B852+63538]\n\tMicrosoft::Applications::Events::ILogConfiguration::operator* [0x00007FF64780F6D2+238290]\n\t(No symbol) [0x00007FF647643407]\n\t(No symbol) [0x00007FF6476897ED]\n\t(No symbol) [0x00007FF6476898B0]\n\t(No symbol) [0x00007FF6476C4387]\n\t(No symbol) [0x00007FF6476A8E5F]\n\t(No symbol) [0x00007FF64767F037]\n\t(No symbol) [0x00007FF6476C1F49]\n\t(No symbol) [0x00007FF6476A8A83]\n\t(No symbol) [0x00007FF64767E55E]\n\t(No symbol) [0x00007FF64767D71C]\n\t(No symbol) [0x00007FF64767E111]\n\tMicrosoft::Applications::Events::EventProperty::to_string [0x00007FF647A61D3C+1102764]\n\t(No symbol) [0x00007FF6476F25F6]\n\t(No symbol) [0x00007FF647783DAC]\n\t(No symbol) [0x00007FF64777BDA8]\n\tMicrosoft::Applications::Events::EventProperty::to_string [0x00007FF647A60C85+1098485]\n\tMicrosoft::Applications::Events::ILogConfiguration::operator* [0x00007FF647819E91+281233]\n\tMicrosoft::Applications::Events::ILogConfiguration::operator* [0x00007FF647814614+258580]\n\tMicrosoft::Applications::Events::ILogConfiguration::operator* [0x00007FF64781474F+258895]\n\tMicrosoft::Applications::Events::ILogConfiguration::operator* [0x00007FF647808F21+211745]\n\tBaseThreadInitThunk [0x00007FFA97C8257D+29]\n\tRtlUserThreadStart [0x00007FFA9942AA58+40]\n",
     "output_type": "error",
     "traceback": [
      "\u001b[1;31m---------------------------------------------------------------------------\u001b[0m",
      "\u001b[1;31mNoSuchElementException\u001b[0m                    Traceback (most recent call last)",
      "Cell \u001b[1;32mIn[13], line 10\u001b[0m\n\u001b[0;32m      7\u001b[0m driver\u001b[38;5;241m.\u001b[39mfind_element(By\u001b[38;5;241m.\u001b[39mXPATH, \u001b[38;5;124m'\u001b[39m\u001b[38;5;124m/html/body/div[1]/div[5]/div[5]/div[2]/div[2]/div[3]/div[1]/div[3]/section/div[1]/div[1]/div/ul/li[146]\u001b[39m\u001b[38;5;124m'\u001b[39m)\u001b[38;5;241m.\u001b[39mclick()\n\u001b[0;32m      9\u001b[0m \u001b[38;5;66;03m### Sroll tới cuối cùng để view toàn bộ comment\u001b[39;00m\n\u001b[1;32m---> 10\u001b[0m scroll_target_div(driver)\n",
      "Cell \u001b[1;32mIn[11], line 2\u001b[0m, in \u001b[0;36mscroll_target_div\u001b[1;34m(driver)\u001b[0m\n\u001b[0;32m      1\u001b[0m \u001b[38;5;28;01mdef\u001b[39;00m \u001b[38;5;21mscroll_target_div\u001b[39m(driver):\n\u001b[1;32m----> 2\u001b[0m     target_div \u001b[38;5;241m=\u001b[39m driver\u001b[38;5;241m.\u001b[39mfind_element(By\u001b[38;5;241m.\u001b[39mCLASS_NAME, \u001b[38;5;124m\"\u001b[39m\u001b[38;5;124mfysCi\u001b[39m\u001b[38;5;124m\"\u001b[39m)\n\u001b[0;32m      4\u001b[0m     \u001b[38;5;66;03m# Get the initial scroll height\u001b[39;00m\n\u001b[0;32m      5\u001b[0m     last_height \u001b[38;5;241m=\u001b[39m target_div\u001b[38;5;241m.\u001b[39mget_attribute(\u001b[38;5;124m'\u001b[39m\u001b[38;5;124mscrollHeight\u001b[39m\u001b[38;5;124m'\u001b[39m)\n",
      "File \u001b[1;32mc:\\Users\\cungt\\anaconda3\\Lib\\site-packages\\selenium\\webdriver\\remote\\webdriver.py:742\u001b[0m, in \u001b[0;36mWebDriver.find_element\u001b[1;34m(self, by, value)\u001b[0m\n\u001b[0;32m    739\u001b[0m     by \u001b[38;5;241m=\u001b[39m By\u001b[38;5;241m.\u001b[39mCSS_SELECTOR\n\u001b[0;32m    740\u001b[0m     value \u001b[38;5;241m=\u001b[39m \u001b[38;5;124mf\u001b[39m\u001b[38;5;124m'\u001b[39m\u001b[38;5;124m[name=\u001b[39m\u001b[38;5;124m\"\u001b[39m\u001b[38;5;132;01m{\u001b[39;00mvalue\u001b[38;5;132;01m}\u001b[39;00m\u001b[38;5;124m\"\u001b[39m\u001b[38;5;124m]\u001b[39m\u001b[38;5;124m'\u001b[39m\n\u001b[1;32m--> 742\u001b[0m \u001b[38;5;28;01mreturn\u001b[39;00m \u001b[38;5;28mself\u001b[39m\u001b[38;5;241m.\u001b[39mexecute(Command\u001b[38;5;241m.\u001b[39mFIND_ELEMENT, {\u001b[38;5;124m\"\u001b[39m\u001b[38;5;124musing\u001b[39m\u001b[38;5;124m\"\u001b[39m: by, \u001b[38;5;124m\"\u001b[39m\u001b[38;5;124mvalue\u001b[39m\u001b[38;5;124m\"\u001b[39m: value})[\u001b[38;5;124m\"\u001b[39m\u001b[38;5;124mvalue\u001b[39m\u001b[38;5;124m\"\u001b[39m]\n",
      "File \u001b[1;32mc:\\Users\\cungt\\anaconda3\\Lib\\site-packages\\selenium\\webdriver\\remote\\webdriver.py:348\u001b[0m, in \u001b[0;36mWebDriver.execute\u001b[1;34m(self, driver_command, params)\u001b[0m\n\u001b[0;32m    346\u001b[0m response \u001b[38;5;241m=\u001b[39m \u001b[38;5;28mself\u001b[39m\u001b[38;5;241m.\u001b[39mcommand_executor\u001b[38;5;241m.\u001b[39mexecute(driver_command, params)\n\u001b[0;32m    347\u001b[0m \u001b[38;5;28;01mif\u001b[39;00m response:\n\u001b[1;32m--> 348\u001b[0m     \u001b[38;5;28mself\u001b[39m\u001b[38;5;241m.\u001b[39merror_handler\u001b[38;5;241m.\u001b[39mcheck_response(response)\n\u001b[0;32m    349\u001b[0m     response[\u001b[38;5;124m\"\u001b[39m\u001b[38;5;124mvalue\u001b[39m\u001b[38;5;124m\"\u001b[39m] \u001b[38;5;241m=\u001b[39m \u001b[38;5;28mself\u001b[39m\u001b[38;5;241m.\u001b[39m_unwrap_value(response\u001b[38;5;241m.\u001b[39mget(\u001b[38;5;124m\"\u001b[39m\u001b[38;5;124mvalue\u001b[39m\u001b[38;5;124m\"\u001b[39m, \u001b[38;5;28;01mNone\u001b[39;00m))\n\u001b[0;32m    350\u001b[0m     \u001b[38;5;28;01mreturn\u001b[39;00m response\n",
      "File \u001b[1;32mc:\\Users\\cungt\\anaconda3\\Lib\\site-packages\\selenium\\webdriver\\remote\\errorhandler.py:229\u001b[0m, in \u001b[0;36mErrorHandler.check_response\u001b[1;34m(self, response)\u001b[0m\n\u001b[0;32m    227\u001b[0m         alert_text \u001b[38;5;241m=\u001b[39m value[\u001b[38;5;124m\"\u001b[39m\u001b[38;5;124malert\u001b[39m\u001b[38;5;124m\"\u001b[39m]\u001b[38;5;241m.\u001b[39mget(\u001b[38;5;124m\"\u001b[39m\u001b[38;5;124mtext\u001b[39m\u001b[38;5;124m\"\u001b[39m)\n\u001b[0;32m    228\u001b[0m     \u001b[38;5;28;01mraise\u001b[39;00m exception_class(message, screen, stacktrace, alert_text)  \u001b[38;5;66;03m# type: ignore[call-arg]  # mypy is not smart enough here\u001b[39;00m\n\u001b[1;32m--> 229\u001b[0m \u001b[38;5;28;01mraise\u001b[39;00m exception_class(message, screen, stacktrace)\n",
      "\u001b[1;31mNoSuchElementException\u001b[0m: Message: no such element: Unable to locate element: {\"method\":\"css selector\",\"selector\":\".fysCi\"}\n  (Session info: MicrosoftEdge=122.0.2365.92); For documentation on this error, please visit: https://www.selenium.dev/documentation/webdriver/troubleshooting/errors#no-such-element-exception\nStacktrace:\n\tGetHandleVerifier [0x00007FF64788B852+63538]\n\tMicrosoft::Applications::Events::ILogConfiguration::operator* [0x00007FF64780F6D2+238290]\n\t(No symbol) [0x00007FF647643407]\n\t(No symbol) [0x00007FF6476897ED]\n\t(No symbol) [0x00007FF6476898B0]\n\t(No symbol) [0x00007FF6476C4387]\n\t(No symbol) [0x00007FF6476A8E5F]\n\t(No symbol) [0x00007FF64767F037]\n\t(No symbol) [0x00007FF6476C1F49]\n\t(No symbol) [0x00007FF6476A8A83]\n\t(No symbol) [0x00007FF64767E55E]\n\t(No symbol) [0x00007FF64767D71C]\n\t(No symbol) [0x00007FF64767E111]\n\tMicrosoft::Applications::Events::EventProperty::to_string [0x00007FF647A61D3C+1102764]\n\t(No symbol) [0x00007FF6476F25F6]\n\t(No symbol) [0x00007FF647783DAC]\n\t(No symbol) [0x00007FF64777BDA8]\n\tMicrosoft::Applications::Events::EventProperty::to_string [0x00007FF647A60C85+1098485]\n\tMicrosoft::Applications::Events::ILogConfiguration::operator* [0x00007FF647819E91+281233]\n\tMicrosoft::Applications::Events::ILogConfiguration::operator* [0x00007FF647814614+258580]\n\tMicrosoft::Applications::Events::ILogConfiguration::operator* [0x00007FF64781474F+258895]\n\tMicrosoft::Applications::Events::ILogConfiguration::operator* [0x00007FF647808F21+211745]\n\tBaseThreadInitThunk [0x00007FFA97C8257D+29]\n\tRtlUserThreadStart [0x00007FFA9942AA58+40]\n"
     ]
    }
   ],
   "source": [
    "### Thay đổi sang frame chứa review và comment\n",
    "iframe = driver.find_element(By.XPATH, '/html/body/div[2]/div/div[2]/div/main/div/div/div/div/div[1]/div[2]/div/div/div/div[2]/iframe')\n",
    "driver.switch_to.frame(iframe)\n",
    "\n",
    "### Chọn qua country \"VN\"\n",
    "driver.find_element(By.XPATH, '/html/body/div[1]/div[5]/div[5]/div[2]/div[2]/div[3]/div[1]/div[3]/section/div[1]/div[1]/a/span[2]').click()\n",
    "driver.find_element(By.XPATH, '/html/body/div[1]/div[5]/div[5]/div[2]/div[2]/div[3]/div[1]/div[3]/section/div[1]/div[1]/div/ul/li[146]').click()\n",
    "\n",
    "### Sroll tới cuối cùng để view toàn bộ comment\n",
    "scroll_target_div(driver)"
   ]
  },
  {
   "cell_type": "code",
   "execution_count": 15,
   "metadata": {},
   "outputs": [],
   "source": [
    "target_div = driver.find_element(By.XPATH, '//*[@id=\"main-ui-view\"]/div[5]/div[2]/div[2]/div[3]')"
   ]
  },
  {
   "cell_type": "code",
   "execution_count": 16,
   "metadata": {},
   "outputs": [],
   "source": [
    "last_height = target_div.get_attribute('scrollHeight')"
   ]
  },
  {
   "cell_type": "code",
   "execution_count": 17,
   "metadata": {},
   "outputs": [],
   "source": [
    "driver.execute_script(\"arguments[0].scrollTop = arguments[0].scrollHeight\", target_div)"
   ]
  },
  {
   "cell_type": "code",
   "execution_count": null,
   "metadata": {},
   "outputs": [],
   "source": []
  }
 ],
 "metadata": {
  "kernelspec": {
   "display_name": "base",
   "language": "python",
   "name": "python3"
  },
  "language_info": {
   "codemirror_mode": {
    "name": "ipython",
    "version": 3
   },
   "file_extension": ".py",
   "mimetype": "text/x-python",
   "name": "python",
   "nbconvert_exporter": "python",
   "pygments_lexer": "ipython3",
   "version": "3.11.3"
  }
 },
 "nbformat": 4,
 "nbformat_minor": 2
}
