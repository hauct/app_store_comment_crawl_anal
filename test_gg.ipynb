{
 "cells": [
  {
   "cell_type": "code",
   "execution_count": 1,
   "metadata": {},
   "outputs": [],
   "source": [
    "import pandas as pd\n",
    "from datetime import datetime\n",
    "import time\n",
    "from tqdm import tqdm\n",
    "from info import *\n",
    "import sqldf\n",
    "\n",
    "from selenium import webdriver\n",
    "from selenium.webdriver.common.by import By\n",
    "from selenium.webdriver.chrome.service import Service\n",
    "from bs4 import BeautifulSoup\n",
    "\n",
    "import google.generativeai as genai\n",
    "import psycopg2"
   ]
  },
  {
   "cell_type": "code",
   "execution_count": 2,
   "metadata": {},
   "outputs": [],
   "source": [
    "def connect_to_web(url):\n",
    "    ## Set up Edge webdriver options.\n",
    "    options = webdriver.EdgeOptions()\n",
    "    options.headless = True # Runs driver without opening a chrome browser.\n",
    "    options.add_experimental_option(\"excludeSwitches\", [\"enable-logging\"])\n",
    "\n",
    "    ## Set the path to your webdriver\n",
    "    service = Service('msedgedriver.exe')\n",
    "\n",
    "    ## Initiate the browser\n",
    "    driver = webdriver.Edge(service=service, options=options)\n",
    "    driver.get(url)\n",
    "    print(f'Connected to {url}')\n",
    "    time.sleep(10)\n",
    "    return driver\n",
    "\n",
    "def scroll_target_div(driver):\n",
    "    target_div = driver.find_element(By.CLASS_NAME, \"fysCi\")\n",
    "    \n",
    "    # Get the initial scroll height\n",
    "    last_height = target_div.get_attribute('scrollHeight')\n",
    "    while True:\n",
    "        # Scroll to the bottom of the div\n",
    "        driver.execute_script(\"arguments[0].scrollTop = arguments[0].scrollHeight\", target_div)\n",
    "\n",
    "        # Wait for the page to load\n",
    "        time.sleep(5)\n",
    "\n",
    "        # Get the current scroll height\n",
    "        current_height = target_div.get_attribute('scrollHeight')\n",
    "\n",
    "        # If the scroll height hasn't changed, exit the loop\n",
    "        if current_height == last_height:\n",
    "            break\n",
    "\n",
    "        # Update the last height\n",
    "        last_height = current_height"
   ]
  },
  {
   "cell_type": "code",
   "execution_count": 5,
   "metadata": {},
   "outputs": [
    {
     "name": "stdout",
     "output_type": "stream",
     "text": [
      "Connected to https://play.google.com/store/apps/details?id=vng.games.thienlong.kiemhiep3d.mobile&hl=vi\n"
     ]
    }
   ],
   "source": [
    "driver = connect_to_web(GG_URL)"
   ]
  },
  {
   "cell_type": "code",
   "execution_count": 6,
   "metadata": {},
   "outputs": [],
   "source": [
    "driver.find_element(By.CSS_SELECTOR, '#yDmH0d > c-wiz.SSPGKf.Czez9d > div > div > div:nth-child(1) > div > div.wkMJlb.YWi3ub > div > div.qZmL0 > div:nth-child(1) > c-wiz:nth-child(5) > section > header > div > div:nth-child(2) > button > i').click()\n",
    "time.sleep(2)\n",
    "\n",
    "# ### Click to sort button\n",
    "driver.find_element(By.CSS_SELECTOR, '#sortBy_1 > div.kW9Bj > i').click()\n",
    "time.sleep(2)\n",
    "\n",
    "### Click to newest button\n",
    "driver.find_element(By.CSS_SELECTOR, '#yDmH0d > div.VfPpkd-Sx9Kwc.cC1eCc.UDxLd.PzCPDd.HQdjr.VfPpkd-Sx9Kwc-OWXEXe-FNFY6c > div.VfPpkd-wzTsW > div > div > div > div > div.fysCi > div.JPdR6b.e5Emjc.ah7Sve.qjTEB > div > div > span:nth-child(2) > div.uyYuVb.oJeWuf > div.jO7h3c').click()\n",
    "time.sleep(2)"
   ]
  },
  {
   "cell_type": "code",
   "execution_count": 7,
   "metadata": {},
   "outputs": [],
   "source": [
    "scroll_target_div(driver)"
   ]
  },
  {
   "cell_type": "code",
   "execution_count": null,
   "metadata": {},
   "outputs": [],
   "source": []
  }
 ],
 "metadata": {
  "kernelspec": {
   "display_name": "base",
   "language": "python",
   "name": "python3"
  },
  "language_info": {
   "codemirror_mode": {
    "name": "ipython",
    "version": 3
   },
   "file_extension": ".py",
   "mimetype": "text/x-python",
   "name": "python",
   "nbconvert_exporter": "python",
   "pygments_lexer": "ipython3",
   "version": "3.11.5"
  }
 },
 "nbformat": 4,
 "nbformat_minor": 2
}
